{
 "cells": [
  {
   "cell_type": "markdown",
   "id": "681ecb95",
   "metadata": {
    "papermill": {
     "duration": 0.00845,
     "end_time": "2023-03-26T10:44:46.426169",
     "exception": false,
     "start_time": "2023-03-26T10:44:46.417719",
     "status": "completed"
    },
    "tags": []
   },
   "source": [
    "# Importing Libraries"
   ]
  },
  {
   "cell_type": "code",
   "execution_count": 1,
   "id": "7098d873",
   "metadata": {
    "_cell_guid": "b1076dfc-b9ad-4769-8c92-a6c4dae69d19",
    "_uuid": "8f2839f25d086af736a60e9eeb907d3b93b6e0e5",
    "execution": {
     "iopub.execute_input": "2023-03-26T10:44:46.444383Z",
     "iopub.status.busy": "2023-03-26T10:44:46.443346Z",
     "iopub.status.idle": "2023-03-26T10:44:47.773495Z",
     "shell.execute_reply": "2023-03-26T10:44:47.772039Z"
    },
    "papermill": {
     "duration": 1.343173,
     "end_time": "2023-03-26T10:44:47.776736",
     "exception": false,
     "start_time": "2023-03-26T10:44:46.433563",
     "status": "completed"
    },
    "tags": []
   },
   "outputs": [
    {
     "name": "stdout",
     "output_type": "stream",
     "text": [
      "/kaggle/input/games-sales/Games Sales.csv\n"
     ]
    }
   ],
   "source": [
    "import pandas as pd\n",
    "import numpy as np\n",
    "import seaborn as sns\n",
    "import re\n",
    "from datetime import datetime\n",
    "\n",
    "import matplotlib\n",
    "import matplotlib.pyplot as plt\n",
    "plt.style.use ('ggplot')\n",
    "from matplotlib.pyplot import figure\n",
    "\n",
    "\n",
    "%matplotlib inline\n",
    "sns.set()\n",
    "\n",
    "import os\n",
    "for dirname, _, filenames in os.walk('/kaggle/input'):\n",
    "    for filename in filenames:\n",
    "        print(os.path.join(dirname, filename))\n",
    "    "
   ]
  },
  {
   "cell_type": "markdown",
   "id": "f64df0dd",
   "metadata": {
    "papermill": {
     "duration": 0.007652,
     "end_time": "2023-03-26T10:44:47.791982",
     "exception": false,
     "start_time": "2023-03-26T10:44:47.784330",
     "status": "completed"
    },
    "tags": []
   },
   "source": [
    "# Read the dataset"
   ]
  },
  {
   "cell_type": "code",
   "execution_count": 2,
   "id": "e997043c",
   "metadata": {
    "execution": {
     "iopub.execute_input": "2023-03-26T10:44:47.809363Z",
     "iopub.status.busy": "2023-03-26T10:44:47.808606Z",
     "iopub.status.idle": "2023-03-26T10:44:47.854226Z",
     "shell.execute_reply": "2023-03-26T10:44:47.852851Z"
    },
    "papermill": {
     "duration": 0.057468,
     "end_time": "2023-03-26T10:44:47.856984",
     "exception": false,
     "start_time": "2023-03-26T10:44:47.799516",
     "status": "completed"
    },
    "tags": []
   },
   "outputs": [
    {
     "data": {
      "text/html": [
       "<div>\n",
       "<style scoped>\n",
       "    .dataframe tbody tr th:only-of-type {\n",
       "        vertical-align: middle;\n",
       "    }\n",
       "\n",
       "    .dataframe tbody tr th {\n",
       "        vertical-align: top;\n",
       "    }\n",
       "\n",
       "    .dataframe thead th {\n",
       "        text-align: right;\n",
       "    }\n",
       "</style>\n",
       "<table border=\"1\" class=\"dataframe\">\n",
       "  <thead>\n",
       "    <tr style=\"text-align: right;\">\n",
       "      <th></th>\n",
       "      <th>Name</th>\n",
       "      <th>Sales</th>\n",
       "      <th>Series</th>\n",
       "      <th>Release</th>\n",
       "      <th>Genre</th>\n",
       "      <th>Developer</th>\n",
       "      <th>Publisher</th>\n",
       "    </tr>\n",
       "  </thead>\n",
       "  <tbody>\n",
       "    <tr>\n",
       "      <th>0</th>\n",
       "      <td>PlayerUnknown's Battlegrounds</td>\n",
       "      <td>42.0</td>\n",
       "      <td>NaN</td>\n",
       "      <td>12/1/2017</td>\n",
       "      <td>Battle royale</td>\n",
       "      <td>PUBG Studios</td>\n",
       "      <td>Krafton</td>\n",
       "    </tr>\n",
       "    <tr>\n",
       "      <th>1</th>\n",
       "      <td>Minecraft</td>\n",
       "      <td>33.0</td>\n",
       "      <td>Minecraft</td>\n",
       "      <td>11/1/2011</td>\n",
       "      <td>Sandbox, survival</td>\n",
       "      <td>Mojang Studios</td>\n",
       "      <td>Mojang Studios</td>\n",
       "    </tr>\n",
       "    <tr>\n",
       "      <th>2</th>\n",
       "      <td>Diablo III</td>\n",
       "      <td>20.0</td>\n",
       "      <td>Diablo</td>\n",
       "      <td>5/1/2012</td>\n",
       "      <td>Action role-playing</td>\n",
       "      <td>Blizzard Entertainment</td>\n",
       "      <td>Blizzard Entertainment</td>\n",
       "    </tr>\n",
       "    <tr>\n",
       "      <th>3</th>\n",
       "      <td>Garry's Mod</td>\n",
       "      <td>20.0</td>\n",
       "      <td>NaN</td>\n",
       "      <td>11/1/2006</td>\n",
       "      <td>Sandbox</td>\n",
       "      <td>Facepunch Studios</td>\n",
       "      <td>Valve</td>\n",
       "    </tr>\n",
       "    <tr>\n",
       "      <th>4</th>\n",
       "      <td>Terraria</td>\n",
       "      <td>17.2</td>\n",
       "      <td>NaN</td>\n",
       "      <td>5/1/2011</td>\n",
       "      <td>Action-adventure</td>\n",
       "      <td>Re-Logic</td>\n",
       "      <td>Re-Logic</td>\n",
       "    </tr>\n",
       "  </tbody>\n",
       "</table>\n",
       "</div>"
      ],
      "text/plain": [
       "                            Name  Sales     Series    Release  \\\n",
       "0  PlayerUnknown's Battlegrounds   42.0        NaN  12/1/2017   \n",
       "1                      Minecraft   33.0  Minecraft  11/1/2011   \n",
       "2                     Diablo III   20.0     Diablo   5/1/2012   \n",
       "3                    Garry's Mod   20.0        NaN  11/1/2006   \n",
       "4                       Terraria   17.2        NaN   5/1/2011   \n",
       "\n",
       "                 Genre               Developer               Publisher  \n",
       "0        Battle royale            PUBG Studios                 Krafton  \n",
       "1    Sandbox, survival          Mojang Studios          Mojang Studios  \n",
       "2  Action role-playing  Blizzard Entertainment  Blizzard Entertainment  \n",
       "3              Sandbox       Facepunch Studios                   Valve  \n",
       "4     Action-adventure                Re-Logic                Re-Logic  "
      ]
     },
     "execution_count": 2,
     "metadata": {},
     "output_type": "execute_result"
    }
   ],
   "source": [
    "df = pd.read_csv('/kaggle/input/games-sales/Games Sales.csv')\n",
    "\n",
    "df.head()"
   ]
  },
  {
   "cell_type": "markdown",
   "id": "7684681a",
   "metadata": {
    "papermill": {
     "duration": 0.008059,
     "end_time": "2023-03-26T10:44:47.872764",
     "exception": false,
     "start_time": "2023-03-26T10:44:47.864705",
     "status": "completed"
    },
    "tags": []
   },
   "source": [
    "# Cleaning Data"
   ]
  },
  {
   "cell_type": "markdown",
   "id": "a837694f",
   "metadata": {
    "papermill": {
     "duration": 0.007465,
     "end_time": "2023-03-26T10:44:47.888619",
     "exception": false,
     "start_time": "2023-03-26T10:44:47.881154",
     "status": "completed"
    },
    "tags": []
   },
   "source": [
    "## Change data types"
   ]
  },
  {
   "cell_type": "code",
   "execution_count": 3,
   "id": "6228ad9a",
   "metadata": {
    "execution": {
     "iopub.execute_input": "2023-03-26T10:44:47.910986Z",
     "iopub.status.busy": "2023-03-26T10:44:47.909593Z",
     "iopub.status.idle": "2023-03-26T10:44:47.919554Z",
     "shell.execute_reply": "2023-03-26T10:44:47.918260Z"
    },
    "papermill": {
     "duration": 0.022701,
     "end_time": "2023-03-26T10:44:47.922489",
     "exception": false,
     "start_time": "2023-03-26T10:44:47.899788",
     "status": "completed"
    },
    "tags": []
   },
   "outputs": [
    {
     "data": {
      "text/plain": [
       "Name          object\n",
       "Sales        float64\n",
       "Series        object\n",
       "Release       object\n",
       "Genre         object\n",
       "Developer     object\n",
       "Publisher     object\n",
       "dtype: object"
      ]
     },
     "execution_count": 3,
     "metadata": {},
     "output_type": "execute_result"
    }
   ],
   "source": [
    "df.dtypes"
   ]
  },
  {
   "cell_type": "markdown",
   "id": "429e54df",
   "metadata": {
    "papermill": {
     "duration": 0.008733,
     "end_time": "2023-03-26T10:44:47.939144",
     "exception": false,
     "start_time": "2023-03-26T10:44:47.930411",
     "status": "completed"
    },
    "tags": []
   },
   "source": [
    "The set has:\n",
    "\n",
    "* Numerical columns: Sales\n",
    "* Object columns: Name, Series, Release, Genre, Developer, Publisher\n",
    "\n",
    "We need to change the types of **Release** to be **datetime** types. "
   ]
  },
  {
   "cell_type": "code",
   "execution_count": 4,
   "id": "60d05dfd",
   "metadata": {
    "execution": {
     "iopub.execute_input": "2023-03-26T10:44:47.956775Z",
     "iopub.status.busy": "2023-03-26T10:44:47.956331Z",
     "iopub.status.idle": "2023-03-26T10:44:47.984000Z",
     "shell.execute_reply": "2023-03-26T10:44:47.982755Z"
    },
    "papermill": {
     "duration": 0.039695,
     "end_time": "2023-03-26T10:44:47.986733",
     "exception": false,
     "start_time": "2023-03-26T10:44:47.947038",
     "status": "completed"
    },
    "tags": []
   },
   "outputs": [],
   "source": [
    "df['Release'] = pd.to_datetime(df['Release'])"
   ]
  },
  {
   "cell_type": "code",
   "execution_count": 5,
   "id": "bde7ad7a",
   "metadata": {
    "execution": {
     "iopub.execute_input": "2023-03-26T10:44:48.004822Z",
     "iopub.status.busy": "2023-03-26T10:44:48.004128Z",
     "iopub.status.idle": "2023-03-26T10:44:48.012912Z",
     "shell.execute_reply": "2023-03-26T10:44:48.011728Z"
    },
    "papermill": {
     "duration": 0.020816,
     "end_time": "2023-03-26T10:44:48.015417",
     "exception": false,
     "start_time": "2023-03-26T10:44:47.994601",
     "status": "completed"
    },
    "tags": []
   },
   "outputs": [
    {
     "data": {
      "text/plain": [
       "Name                 object\n",
       "Sales               float64\n",
       "Series               object\n",
       "Release      datetime64[ns]\n",
       "Genre                object\n",
       "Developer            object\n",
       "Publisher            object\n",
       "dtype: object"
      ]
     },
     "execution_count": 5,
     "metadata": {},
     "output_type": "execute_result"
    }
   ],
   "source": [
    "#Let's check again\n",
    "df.dtypes"
   ]
  },
  {
   "cell_type": "markdown",
   "id": "f54210cd",
   "metadata": {
    "papermill": {
     "duration": 0.00768,
     "end_time": "2023-03-26T10:44:48.030977",
     "exception": false,
     "start_time": "2023-03-26T10:44:48.023297",
     "status": "completed"
    },
    "tags": []
   },
   "source": [
    "## Check Typo"
   ]
  },
  {
   "cell_type": "code",
   "execution_count": 6,
   "id": "d5b79d28",
   "metadata": {
    "execution": {
     "iopub.execute_input": "2023-03-26T10:44:48.048963Z",
     "iopub.status.busy": "2023-03-26T10:44:48.048097Z",
     "iopub.status.idle": "2023-03-26T10:44:48.064773Z",
     "shell.execute_reply": "2023-03-26T10:44:48.063025Z"
    },
    "papermill": {
     "duration": 0.028411,
     "end_time": "2023-03-26T10:44:48.067228",
     "exception": false,
     "start_time": "2023-03-26T10:44:48.038817",
     "status": "completed"
    },
    "tags": []
   },
   "outputs": [
    {
     "name": "stdout",
     "output_type": "stream",
     "text": [
      "Blizzard Entertainment             10\n",
      "Maxis                               6\n",
      "Paradox Development Studio          5\n",
      "id Software                         4\n",
      "Westwood Studios                    4\n",
      "                                   ..\n",
      "Kojima Productions                  1\n",
      "Edmund McMillen & Florian Himsl     1\n",
      "Landfall Games                      1\n",
      "Keen Software House                 1\n",
      "Microsoft                           1\n",
      "Name: Developer, Length: 109, dtype: int64 \n",
      "Real-time strategy                        26\n",
      "First-person shooter                      19\n",
      "Action role-playing                       12\n",
      "Construction and management simulation     9\n",
      "Role-playing game                          8\n",
      "                                          ..\n",
      "Action role-playing game                   1\n",
      "Maze, arcade                               1\n",
      "Action-adventure, platformer               1\n",
      "Action-adventure, Survival                 1\n",
      "Space combat simulation                    1\n",
      "Name: Genre, Length: 61, dtype: int64 \n",
      "StarCraft                6\n",
      "Command & Conquer        5\n",
      "Civilization             4\n",
      "Age of Empires           4\n",
      "Warcraft                 3\n",
      "                        ..\n",
      "Alice                    1\n",
      "Ark: Survival Evolved    1\n",
      "BioShock                 1\n",
      "Commandos                1\n",
      "Zoo Tycoon               1\n",
      "Name: Series, Length: 91, dtype: int64 \n"
     ]
    }
   ],
   "source": [
    "#counts the number of the content is appears\n",
    "for col_name in (['Developer', 'Genre', 'Series']):\n",
    "    print(df[col_name].value_counts(), '')\n"
   ]
  },
  {
   "cell_type": "markdown",
   "id": "d2136029",
   "metadata": {
    "papermill": {
     "duration": 0.007861,
     "end_time": "2023-03-26T10:44:48.084029",
     "exception": false,
     "start_time": "2023-03-26T10:44:48.076168",
     "status": "completed"
    },
    "tags": []
   },
   "source": [
    "## Check Missing Value"
   ]
  },
  {
   "cell_type": "code",
   "execution_count": 7,
   "id": "a9b74aac",
   "metadata": {
    "execution": {
     "iopub.execute_input": "2023-03-26T10:44:48.104066Z",
     "iopub.status.busy": "2023-03-26T10:44:48.102602Z",
     "iopub.status.idle": "2023-03-26T10:44:48.468371Z",
     "shell.execute_reply": "2023-03-26T10:44:48.467034Z"
    },
    "papermill": {
     "duration": 0.378707,
     "end_time": "2023-03-26T10:44:48.471441",
     "exception": false,
     "start_time": "2023-03-26T10:44:48.092734",
     "status": "completed"
    },
    "tags": []
   },
   "outputs": [
    {
     "data": {
      "image/png": "[encoded data removed]",
      "text/plain": [
       "<Figure size 640x480 with 1 Axes>"
      ]
     },
     "metadata": {},
     "output_type": "display_data"
    }
   ],
   "source": [
    "sns.heatmap(df.isnull(), cbar=False) \n",
    "plt.title('Valores faltantes por columna y posición', fontsize = 15)\n",
    "plt.show()"
   ]
  },
  {
   "cell_type": "code",
   "execution_count": 8,
   "id": "5327920a",
   "metadata": {
    "execution": {
     "iopub.execute_input": "2023-03-26T10:44:48.492342Z",
     "iopub.status.busy": "2023-03-26T10:44:48.491920Z",
     "iopub.status.idle": "2023-03-26T10:44:48.506092Z",
     "shell.execute_reply": "2023-03-26T10:44:48.504894Z"
    },
    "papermill": {
     "duration": 0.028249,
     "end_time": "2023-03-26T10:44:48.509039",
     "exception": false,
     "start_time": "2023-03-26T10:44:48.480790",
     "status": "completed"
    },
    "tags": []
   },
   "outputs": [],
   "source": [
    "#Fix the missing value\n",
    "df = df.dropna()\n",
    "\n"
   ]
  },
  {
   "cell_type": "code",
   "execution_count": 9,
   "id": "39ea386d",
   "metadata": {
    "execution": {
     "iopub.execute_input": "2023-03-26T10:44:48.530377Z",
     "iopub.status.busy": "2023-03-26T10:44:48.529017Z",
     "iopub.status.idle": "2023-03-26T10:44:48.862625Z",
     "shell.execute_reply": "2023-03-26T10:44:48.861608Z"
    },
    "papermill": {
     "duration": 0.346151,
     "end_time": "2023-03-26T10:44:48.864973",
     "exception": false,
     "start_time": "2023-03-26T10:44:48.518822",
     "status": "completed"
    },
    "tags": []
   },
   "outputs": [
    {
     "data": {
      "image/png": "[encoded data removed]",
      "text/plain": [
       "<Figure size 640x480 with 1 Axes>"
      ]
     },
     "metadata": {},
     "output_type": "display_data"
    }
   ],
   "source": [
    "sns.heatmap(df.isnull(), cbar=False) \n",
    "plt.title('Valores faltantes por columna y posición', fontsize = 15)\n",
    "plt.show()"
   ]
  },
  {
   "cell_type": "markdown",
   "id": "4b122630",
   "metadata": {
    "papermill": {
     "duration": 0.009122,
     "end_time": "2023-03-26T10:44:48.883622",
     "exception": false,
     "start_time": "2023-03-26T10:44:48.874500",
     "status": "completed"
    },
    "tags": []
   },
   "source": [
    "Perfect!"
   ]
  },
  {
   "cell_type": "markdown",
   "id": "2d13334e",
   "metadata": {
    "papermill": {
     "duration": 0.009369,
     "end_time": "2023-03-26T10:44:48.902449",
     "exception": false,
     "start_time": "2023-03-26T10:44:48.893080",
     "status": "completed"
    },
    "tags": []
   },
   "source": [
    "# Analysis Using EDA"
   ]
  },
  {
   "cell_type": "markdown",
   "id": "d2447e40",
   "metadata": {
    "papermill": {
     "duration": 0.009062,
     "end_time": "2023-03-26T10:44:48.921152",
     "exception": false,
     "start_time": "2023-03-26T10:44:48.912090",
     "status": "completed"
    },
    "tags": []
   },
   "source": [
    "## 1. The Oldest and The Newest Games"
   ]
  },
  {
   "cell_type": "code",
   "execution_count": 10,
   "id": "9ad00809",
   "metadata": {
    "execution": {
     "iopub.execute_input": "2023-03-26T10:44:48.942609Z",
     "iopub.status.busy": "2023-03-26T10:44:48.941398Z",
     "iopub.status.idle": "2023-03-26T10:44:48.956602Z",
     "shell.execute_reply": "2023-03-26T10:44:48.955332Z"
    },
    "papermill": {
     "duration": 0.028856,
     "end_time": "2023-03-26T10:44:48.959322",
     "exception": false,
     "start_time": "2023-03-26T10:44:48.930466",
     "status": "completed"
    },
    "tags": []
   },
   "outputs": [
    {
     "data": {
      "text/html": [
       "<div>\n",
       "<style scoped>\n",
       "    .dataframe tbody tr th:only-of-type {\n",
       "        vertical-align: middle;\n",
       "    }\n",
       "\n",
       "    .dataframe tbody tr th {\n",
       "        vertical-align: top;\n",
       "    }\n",
       "\n",
       "    .dataframe thead th {\n",
       "        text-align: right;\n",
       "    }\n",
       "</style>\n",
       "<table border=\"1\" class=\"dataframe\">\n",
       "  <thead>\n",
       "    <tr style=\"text-align: right;\">\n",
       "      <th></th>\n",
       "      <th>Name</th>\n",
       "      <th>Release</th>\n",
       "    </tr>\n",
       "  </thead>\n",
       "  <tbody>\n",
       "    <tr>\n",
       "      <th>133</th>\n",
       "      <td>Hydlide</td>\n",
       "      <td>1984-12-01</td>\n",
       "    </tr>\n",
       "  </tbody>\n",
       "</table>\n",
       "</div>"
      ],
      "text/plain": [
       "        Name    Release\n",
       "133  Hydlide 1984-12-01"
      ]
     },
     "execution_count": 10,
     "metadata": {},
     "output_type": "execute_result"
    }
   ],
   "source": [
    "Oldest = df.sort_values('Release', ascending = True)\n",
    "\n",
    "#Specify the column we want to know\n",
    "Oldest[['Name', 'Release']] [:1]"
   ]
  },
  {
   "cell_type": "code",
   "execution_count": 11,
   "id": "4657075c",
   "metadata": {
    "execution": {
     "iopub.execute_input": "2023-03-26T10:44:48.981262Z",
     "iopub.status.busy": "2023-03-26T10:44:48.980386Z",
     "iopub.status.idle": "2023-03-26T10:44:48.993962Z",
     "shell.execute_reply": "2023-03-26T10:44:48.992659Z"
    },
    "papermill": {
     "duration": 0.02748,
     "end_time": "2023-03-26T10:44:48.996505",
     "exception": false,
     "start_time": "2023-03-26T10:44:48.969025",
     "status": "completed"
    },
    "tags": []
   },
   "outputs": [
    {
     "data": {
      "text/html": [
       "<div>\n",
       "<style scoped>\n",
       "    .dataframe tbody tr th:only-of-type {\n",
       "        vertical-align: middle;\n",
       "    }\n",
       "\n",
       "    .dataframe tbody tr th {\n",
       "        vertical-align: top;\n",
       "    }\n",
       "\n",
       "    .dataframe thead th {\n",
       "        text-align: right;\n",
       "    }\n",
       "</style>\n",
       "<table border=\"1\" class=\"dataframe\">\n",
       "  <thead>\n",
       "    <tr style=\"text-align: right;\">\n",
       "      <th></th>\n",
       "      <th>Name</th>\n",
       "      <th>Release</th>\n",
       "    </tr>\n",
       "  </thead>\n",
       "  <tbody>\n",
       "    <tr>\n",
       "      <th>110</th>\n",
       "      <td>Crusader Kings III</td>\n",
       "      <td>2020-09-01</td>\n",
       "    </tr>\n",
       "  </tbody>\n",
       "</table>\n",
       "</div>"
      ],
      "text/plain": [
       "                   Name    Release\n",
       "110  Crusader Kings III 2020-09-01"
      ]
     },
     "execution_count": 11,
     "metadata": {},
     "output_type": "execute_result"
    }
   ],
   "source": [
    "Newest = df.sort_values('Release', ascending = False)\n",
    "\n",
    "#Specify the column we want to know\n",
    "Newest[['Name', 'Release']] [:1]"
   ]
  },
  {
   "cell_type": "markdown",
   "id": "a9aa6a4d",
   "metadata": {
    "papermill": {
     "duration": 0.009697,
     "end_time": "2023-03-26T10:44:49.017360",
     "exception": false,
     "start_time": "2023-03-26T10:44:49.007663",
     "status": "completed"
    },
    "tags": []
   },
   "source": [
    "## 2. Publihser Published Most "
   ]
  },
  {
   "cell_type": "code",
   "execution_count": 12,
   "id": "5e39995c",
   "metadata": {
    "execution": {
     "iopub.execute_input": "2023-03-26T10:44:49.039835Z",
     "iopub.status.busy": "2023-03-26T10:44:49.039056Z",
     "iopub.status.idle": "2023-03-26T10:44:49.050251Z",
     "shell.execute_reply": "2023-03-26T10:44:49.048884Z"
    },
    "papermill": {
     "duration": 0.026169,
     "end_time": "2023-03-26T10:44:49.053411",
     "exception": false,
     "start_time": "2023-03-26T10:44:49.027242",
     "status": "completed"
    },
    "tags": []
   },
   "outputs": [
    {
     "data": {
      "text/plain": [
       "Publisher\n",
       "Electronic Arts           19\n",
       "Blizzard Entertainment    10\n",
       "Activision                 6\n",
       "GT Interactive             5\n",
       "Paradox Interactive        4\n",
       "Name: Name, dtype: int64"
      ]
     },
     "execution_count": 12,
     "metadata": {},
     "output_type": "execute_result"
    }
   ],
   "source": [
    "#First I want to create the list data before visualizing it \n",
    "publisher = df.groupby('Publisher')['Name'].count()\n",
    "publisher = publisher.sort_values(ascending = False)\n",
    "top5 = publisher.head()\n",
    "\n",
    "top5\n"
   ]
  },
  {
   "cell_type": "code",
   "execution_count": 13,
   "id": "d18f9392",
   "metadata": {
    "execution": {
     "iopub.execute_input": "2023-03-26T10:44:49.074959Z",
     "iopub.status.busy": "2023-03-26T10:44:49.074518Z",
     "iopub.status.idle": "2023-03-26T10:44:49.368243Z",
     "shell.execute_reply": "2023-03-26T10:44:49.366880Z"
    },
    "papermill": {
     "duration": 0.307812,
     "end_time": "2023-03-26T10:44:49.370972",
     "exception": false,
     "start_time": "2023-03-26T10:44:49.063160",
     "status": "completed"
    },
    "tags": []
   },
   "outputs": [
    {
     "data": {
      "image/png": "[encoded data removed]",
      "text/plain": [
       "<Figure size 640x480 with 1 Axes>"
      ]
     },
     "metadata": {},
     "output_type": "display_data"
    }
   ],
   "source": [
    "#Make it EDA\n",
    "publisher = df.groupby('Publisher')['Name'].count()\n",
    "publisher = publisher.sort_values(ascending = False)\n",
    "top5 = publisher.head()\n",
    "\n",
    "sns.barplot(x = top5.index, y = top5.values)\n",
    "plt.title('Publisher that published the most games')\n",
    "plt.ylabel('Number of games')\n",
    "plt.xlabel('Publihser')\n",
    "\n",
    "plt.xticks(rotation = 45, ha = 'right')\n",
    "\n",
    "for i, count in enumerate(top5.values):\n",
    "    plt.text(i, count/2, count, ha = 'center', va = 'center', color = 'black', fontweight = 'medium')\n",
    "\n",
    "plt.show()\n",
    "\n"
   ]
  },
  {
   "cell_type": "markdown",
   "id": "8f162819",
   "metadata": {
    "papermill": {
     "duration": 0.010907,
     "end_time": "2023-03-26T10:44:49.392833",
     "exception": false,
     "start_time": "2023-03-26T10:44:49.381926",
     "status": "completed"
    },
    "tags": []
   },
   "source": [
    "## 3. Developer Developed the most of games"
   ]
  },
  {
   "cell_type": "code",
   "execution_count": 14,
   "id": "0143f835",
   "metadata": {
    "execution": {
     "iopub.execute_input": "2023-03-26T10:44:49.416725Z",
     "iopub.status.busy": "2023-03-26T10:44:49.415617Z",
     "iopub.status.idle": "2023-03-26T10:44:49.429521Z",
     "shell.execute_reply": "2023-03-26T10:44:49.428561Z"
    },
    "papermill": {
     "duration": 0.028771,
     "end_time": "2023-03-26T10:44:49.432201",
     "exception": false,
     "start_time": "2023-03-26T10:44:49.403430",
     "status": "completed"
    },
    "tags": []
   },
   "outputs": [
    {
     "data": {
      "text/plain": [
       "Developer\n",
       "Blizzard Entertainment        10\n",
       "Maxis                          6\n",
       "id Software                    4\n",
       "Capcom                         4\n",
       "Paradox Development Studio     4\n",
       "Name: Name, dtype: int64"
      ]
     },
     "execution_count": 14,
     "metadata": {},
     "output_type": "execute_result"
    }
   ],
   "source": [
    "#First I want to create the list data before visualizing it \n",
    "developer = df.groupby('Developer')['Name'].count()\n",
    "developer = developer.sort_values(ascending = False)\n",
    "top5 = developer.head()\n",
    "\n",
    "top5"
   ]
  },
  {
   "cell_type": "code",
   "execution_count": 15,
   "id": "72d70794",
   "metadata": {
    "execution": {
     "iopub.execute_input": "2023-03-26T10:44:49.456932Z",
     "iopub.status.busy": "2023-03-26T10:44:49.456219Z",
     "iopub.status.idle": "2023-03-26T10:44:49.716278Z",
     "shell.execute_reply": "2023-03-26T10:44:49.714967Z"
    },
    "papermill": {
     "duration": 0.275573,
     "end_time": "2023-03-26T10:44:49.719179",
     "exception": false,
     "start_time": "2023-03-26T10:44:49.443606",
     "status": "completed"
    },
    "tags": []
   },
   "outputs": [
    {
     "data": {
      "image/png": "[encoded data removed]",
      "text/plain": [
       "<Figure size 640x480 with 1 Axes>"
      ]
     },
     "metadata": {},
     "output_type": "display_data"
    }
   ],
   "source": [
    "#Make it EDA\n",
    "developer = df.groupby('Developer')['Name'].count()\n",
    "developer = developer.sort_values(ascending = False)\n",
    "top5 = developer.head()\n",
    "\n",
    "sns.barplot(x = top5.index, y = top5.values)\n",
    "plt.title('Developer that developed the most games')\n",
    "plt.ylabel('Number of games')\n",
    "plt.xlabel('Developer')\n",
    "\n",
    "plt.xticks(rotation = 0, ha = 'center')\n",
    "\n",
    "for i, count in enumerate(top5.values):\n",
    "    plt.text(i, count/2, count, ha = 'center', va = 'center', color = 'black', fontweight = 'medium')\n",
    "\n",
    "plt.show()\n"
   ]
  },
  {
   "cell_type": "markdown",
   "id": "81ad596f",
   "metadata": {
    "papermill": {
     "duration": 0.011066,
     "end_time": "2023-03-26T10:44:49.742489",
     "exception": false,
     "start_time": "2023-03-26T10:44:49.731423",
     "status": "completed"
    },
    "tags": []
   },
   "source": [
    "## 4. Series the most sales"
   ]
  },
  {
   "cell_type": "code",
   "execution_count": 16,
   "id": "9786557d",
   "metadata": {
    "execution": {
     "iopub.execute_input": "2023-03-26T10:44:49.767914Z",
     "iopub.status.busy": "2023-03-26T10:44:49.767422Z",
     "iopub.status.idle": "2023-03-26T10:44:49.789530Z",
     "shell.execute_reply": "2023-03-26T10:44:49.788047Z"
    },
    "papermill": {
     "duration": 0.037649,
     "end_time": "2023-03-26T10:44:49.792127",
     "exception": false,
     "start_time": "2023-03-26T10:44:49.754478",
     "status": "completed"
    },
    "tags": []
   },
   "outputs": [
    {
     "data": {
      "text/html": [
       "<div>\n",
       "<style scoped>\n",
       "    .dataframe tbody tr th:only-of-type {\n",
       "        vertical-align: middle;\n",
       "    }\n",
       "\n",
       "    .dataframe tbody tr th {\n",
       "        vertical-align: top;\n",
       "    }\n",
       "\n",
       "    .dataframe thead th {\n",
       "        text-align: right;\n",
       "    }\n",
       "</style>\n",
       "<table border=\"1\" class=\"dataframe\">\n",
       "  <thead>\n",
       "    <tr style=\"text-align: right;\">\n",
       "      <th></th>\n",
       "      <th>Series</th>\n",
       "      <th>Sales</th>\n",
       "    </tr>\n",
       "  </thead>\n",
       "  <tbody>\n",
       "    <tr>\n",
       "      <th>47</th>\n",
       "      <td>Minecraft</td>\n",
       "      <td>33.0</td>\n",
       "    </tr>\n",
       "    <tr>\n",
       "      <th>22</th>\n",
       "      <td>Diablo</td>\n",
       "      <td>26.0</td>\n",
       "    </tr>\n",
       "    <tr>\n",
       "      <th>75</th>\n",
       "      <td>The Sims</td>\n",
       "      <td>24.0</td>\n",
       "    </tr>\n",
       "    <tr>\n",
       "      <th>36</th>\n",
       "      <td>Half-Life</td>\n",
       "      <td>21.0</td>\n",
       "    </tr>\n",
       "    <tr>\n",
       "      <th>68</th>\n",
       "      <td>StarCraft</td>\n",
       "      <td>21.0</td>\n",
       "    </tr>\n",
       "  </tbody>\n",
       "</table>\n",
       "</div>"
      ],
      "text/plain": [
       "       Series  Sales\n",
       "47  Minecraft   33.0\n",
       "22     Diablo   26.0\n",
       "75   The Sims   24.0\n",
       "36  Half-Life   21.0\n",
       "68  StarCraft   21.0"
      ]
     },
     "execution_count": 16,
     "metadata": {},
     "output_type": "execute_result"
    }
   ],
   "source": [
    "#First I want to create the list data before visualizing it \n",
    "\n",
    "#count the sales of each series\n",
    "series = df.groupby(['Series']).sum().reset_index()\n",
    "\n",
    "#sort the series by sales\n",
    "series = series.sort_values(by = 'Sales', ascending = False)\n",
    "\n",
    "#show the top 5 list of series\n",
    "top5 = series.head()\n",
    "top5\n"
   ]
  },
  {
   "cell_type": "code",
   "execution_count": 17,
   "id": "26ac491d",
   "metadata": {
    "execution": {
     "iopub.execute_input": "2023-03-26T10:44:49.817844Z",
     "iopub.status.busy": "2023-03-26T10:44:49.816702Z",
     "iopub.status.idle": "2023-03-26T10:44:50.195161Z",
     "shell.execute_reply": "2023-03-26T10:44:50.193241Z"
    },
    "papermill": {
     "duration": 0.393548,
     "end_time": "2023-03-26T10:44:50.197318",
     "exception": true,
     "start_time": "2023-03-26T10:44:49.803770",
     "status": "failed"
    },
    "tags": []
   },
   "outputs": [
    {
     "ename": "NameError",
     "evalue": "name 'sales' is not defined",
     "output_type": "error",
     "traceback": [
      "\u001b[0;31m---------------------------------------------------------------------------\u001b[0m",
      "\u001b[0;31mNameError\u001b[0m                                 Traceback (most recent call last)",
      "\u001b[0;32m/tmp/ipykernel_19/843510679.py\u001b[0m in \u001b[0;36m<module>\u001b[0;34m\u001b[0m\n\u001b[1;32m     19\u001b[0m \u001b[0mplt\u001b[0m\u001b[0;34m.\u001b[0m\u001b[0mxticks\u001b[0m\u001b[0;34m(\u001b[0m\u001b[0mrotation\u001b[0m \u001b[0;34m=\u001b[0m \u001b[0;36m0\u001b[0m\u001b[0;34m,\u001b[0m \u001b[0mha\u001b[0m \u001b[0;34m=\u001b[0m \u001b[0;34m'center'\u001b[0m\u001b[0;34m)\u001b[0m\u001b[0;34m\u001b[0m\u001b[0;34m\u001b[0m\u001b[0m\n\u001b[1;32m     20\u001b[0m \u001b[0;34m\u001b[0m\u001b[0m\n\u001b[0;32m---> 21\u001b[0;31m \u001b[0;32mfor\u001b[0m \u001b[0mi\u001b[0m\u001b[0;34m,\u001b[0m \u001b[0mcount\u001b[0m \u001b[0;32min\u001b[0m \u001b[0menumerate\u001b[0m\u001b[0;34m(\u001b[0m\u001b[0msales\u001b[0m\u001b[0;34m)\u001b[0m\u001b[0;34m:\u001b[0m\u001b[0;34m\u001b[0m\u001b[0;34m\u001b[0m\u001b[0m\n\u001b[0m\u001b[1;32m     22\u001b[0m     \u001b[0mplt\u001b[0m\u001b[0;34m.\u001b[0m\u001b[0mtext\u001b[0m\u001b[0;34m(\u001b[0m\u001b[0mi\u001b[0m\u001b[0;34m,\u001b[0m \u001b[0mcount\u001b[0m\u001b[0;34m/\u001b[0m\u001b[0;36m2\u001b[0m\u001b[0;34m,\u001b[0m \u001b[0mcount\u001b[0m\u001b[0;34m,\u001b[0m \u001b[0mha\u001b[0m \u001b[0;34m=\u001b[0m \u001b[0;34m'center'\u001b[0m\u001b[0;34m,\u001b[0m \u001b[0mva\u001b[0m \u001b[0;34m=\u001b[0m \u001b[0;34m'center'\u001b[0m\u001b[0;34m,\u001b[0m \u001b[0mcolor\u001b[0m \u001b[0;34m=\u001b[0m \u001b[0;34m'black'\u001b[0m\u001b[0;34m,\u001b[0m \u001b[0mfontweight\u001b[0m \u001b[0;34m=\u001b[0m \u001b[0;34m'medium'\u001b[0m\u001b[0;34m)\u001b[0m\u001b[0;34m\u001b[0m\u001b[0;34m\u001b[0m\u001b[0m\n\u001b[1;32m     23\u001b[0m \u001b[0mplt\u001b[0m\u001b[0;34m.\u001b[0m\u001b[0mshow\u001b[0m\u001b[0;34m(\u001b[0m\u001b[0;34m)\u001b[0m\u001b[0;34m\u001b[0m\u001b[0;34m\u001b[0m\u001b[0m\n",
      "\u001b[0;31mNameError\u001b[0m: name 'sales' is not defined"
     ]
    },
    {
     "data": {
      "image/png": "[encoded data removed]",
      "text/plain": [
       "<Figure size 640x480 with 1 Axes>"
      ]
     },
     "metadata": {},
     "output_type": "display_data"
    }
   ],
   "source": [
    "#Make it EDA\n",
    "\n",
    "#count the sales of each series\n",
    "series = df.groupby(['Series']).sum().reset_index()\n",
    "\n",
    "#sort the series by sales\n",
    "series = series.sort_values(by = 'Sales', ascending = False)\n",
    "\n",
    "#show the top 5 list of series\n",
    "top5 = series.head(5)\n",
    "\n",
    "#set series as x label and sales as the y label\n",
    "\n",
    "sns.barplot(x = 'Series', y = 'Sales', data = top5)\n",
    "plt.title('Top 5 The Series most Sales')\n",
    "plt.ylabel('Number of sales')\n",
    "plt.xlabel('Series')\n",
    "\n",
    "plt.xticks(rotation = 0, ha = 'center')\n",
    "\n",
    "for i, count in enumerate(sales):\n",
    "    plt.text(i, count/2, count, ha = 'center', va = 'center', color = 'black', fontweight = 'medium')\n",
    "plt.show()\n",
    "\n",
    "\n"
   ]
  },
  {
   "cell_type": "markdown",
   "id": "71a8a26c",
   "metadata": {
    "papermill": {
     "duration": null,
     "end_time": null,
     "exception": null,
     "start_time": null,
     "status": "pending"
    },
    "tags": []
   },
   "source": [
    "## 5. Series have the Most Games"
   ]
  },
  {
   "cell_type": "code",
   "execution_count": null,
   "id": "4cbb9469",
   "metadata": {
    "execution": {
     "iopub.execute_input": "2023-03-25T04:37:48.291822Z",
     "iopub.status.busy": "2023-03-25T04:37:48.291115Z",
     "iopub.status.idle": "2023-03-25T04:37:48.303873Z",
     "shell.execute_reply": "2023-03-25T04:37:48.302645Z",
     "shell.execute_reply.started": "2023-03-25T04:37:48.291784Z"
    },
    "papermill": {
     "duration": null,
     "end_time": null,
     "exception": null,
     "start_time": null,
     "status": "pending"
    },
    "tags": []
   },
   "outputs": [],
   "source": [
    "#First I want to create the list data before visualizing it \n",
    "\n",
    "#count the series of each game's Name\n",
    "name = df.groupby('Series')['Name'].nunique()\n",
    "\n",
    "#sort the Name by series\n",
    "name = name.sort_values(ascending = False)\n",
    "\n",
    "#show the top 5 list of series\n",
    "top5 = name.head()\n",
    "\n",
    "top5"
   ]
  },
  {
   "cell_type": "code",
   "execution_count": null,
   "id": "bd92e10a",
   "metadata": {
    "execution": {
     "iopub.execute_input": "2023-03-25T04:38:14.199552Z",
     "iopub.status.busy": "2023-03-25T04:38:14.199087Z",
     "iopub.status.idle": "2023-03-25T04:38:14.470659Z",
     "shell.execute_reply": "2023-03-25T04:38:14.469468Z",
     "shell.execute_reply.started": "2023-03-25T04:38:14.199515Z"
    },
    "papermill": {
     "duration": null,
     "end_time": null,
     "exception": null,
     "start_time": null,
     "status": "pending"
    },
    "tags": []
   },
   "outputs": [],
   "source": [
    "#First I want to create the list data before visualizing it \n",
    "\n",
    "#count the series of each game's Name\n",
    "name = df.groupby('Series')['Name'].nunique()\n",
    "\n",
    "#sort the Name by series\n",
    "name = name.sort_values(ascending = False)\n",
    "\n",
    "#show the top 5 list of series\n",
    "top = name.head()\n",
    "\n",
    "#set Name as x label and Count of Series as the y label\n",
    "\n",
    "sns.barplot(x = top.index, y = top)\n",
    "plt.title('Series have the Most Games')\n",
    "plt.ylabel('Number of Games')\n",
    "plt.xlabel(\"Series\")\n",
    "\n",
    "plt.xticks(rotation = 0, ha = 'center')\n",
    "\n",
    "for i, count in enumerate(top5):\n",
    "    plt.text(i, count/2, count, ha = 'center', va = 'center', color = 'black', fontweight = 'medium')\n",
    "plt.show()\n",
    "\n"
   ]
  }
 ],
 "metadata": {
  "kernelspec": {
   "display_name": "Python 3",
   "language": "python",
   "name": "python3"
  },
  "language_info": {
   "codemirror_mode": {
    "name": "ipython",
    "version": 3
   },
   "file_extension": ".py",
   "mimetype": "text/x-python",
   "name": "python",
   "nbconvert_exporter": "python",
   "pygments_lexer": "ipython3",
   "version": "3.7.12"
  },
  "papermill": {
   "default_parameters": {},
   "duration": 15.59921,
   "end_time": "2023-03-26T10:44:51.034679",
   "environment_variables": {},
   "exception": true,
   "input_path": "__notebook__.ipynb",
   "output_path": "__notebook__.ipynb",
   "parameters": {},
   "start_time": "2023-03-26T10:44:35.435469",
   "version": "2.4.0"
  }
 },
 "nbformat": 4,
 "nbformat_minor": 5
}
